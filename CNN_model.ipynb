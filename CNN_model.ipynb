{
 "cells": [
  {
   "cell_type": "code",
   "execution_count": 1,
   "metadata": {
    "collapsed": false
   },
   "outputs": [
    {
     "name": "stdout",
     "output_type": "stream",
     "text": [
      "[name: \"/device:CPU:0\"\ndevice_type: \"CPU\"\nmemory_limit: 268435456\nlocality {\n}\nincarnation: 3458158467793970166\n, name: \"/device:GPU:0\"\ndevice_type: \"GPU\"\nmemory_limit: 1271033856\nlocality {\n  bus_id: 1\n  links {\n  }\n}\nincarnation: 14397545821718614318\nphysical_device_desc: \"device: 0, name: GeForce GTX 680, pci bus id: 0000:01:00.0, compute capability: 3.0\"\n]\n"
     ]
    }
   ],
   "source": [
    "from functions import *\n",
    "\n"
   ]
  },
  {
   "cell_type": "code",
   "execution_count": 2,
   "metadata": {},
   "outputs": [
    {
     "name": "stdout",
     "output_type": "stream",
     "text": [
      "X train shape: (17000, 32, 32, 1)\nY train shape: (17000, 10)\n"
     ]
    },
    {
     "name": "stdout",
     "output_type": "stream",
     "text": [
      "X test shape: (3000, 32, 32, 1)\nY test shape: (3000, 10)\n"
     ]
    }
   ],
   "source": [
    "np.random.seed(1)\n",
    "fldr = './img_data/numbers/'\n",
    "dataset = PrepareData(fldr).run()\n"
   ]
  },
  {
   "cell_type": "code",
   "execution_count": 3,
   "metadata": {},
   "outputs": [],
   "source": [
    "model_params = dict({'learning_rate': 0.005,\n",
    "                     'num_epochs': 20,\n",
    "                     'minibatch_size': 256,\n",
    "                     'accuracy_batch': 100,\n",
    "                     'print_cost': True,\n",
    "                     'plot_from_epoch': 5,\n",
    "                     'save_weights': True,\n",
    "                     })\n"
   ]
  },
  {
   "cell_type": "code",
   "execution_count": 4,
   "metadata": {},
   "outputs": [],
   "source": [
    "layers_params = dict({'layer1': dict({'filter': [32, 32, 1, 32],\n",
    "                                      'strides': [1, 1, 1, 1],\n",
    "                                      'padding': 'SAME',\n",
    "                                      'mp_ksize': [1, 4, 4, 1],\n",
    "                                      'mp_strides': [1, 4, 4, 1],\n",
    "                                      'mp_padding': 'SAME'}),\n",
    "                      'layer2': dict({'filter': [1, 1, 32, 64],\n",
    "                                      'strides': [1, 1, 1, 1],\n",
    "                                      'padding': 'SAME',\n",
    "                                      'mp_ksize': [1, 2, 2, 1],\n",
    "                                      'mp_strides': [1, 2, 2, 1],\n",
    "                                      'mp_padding': 'SAME'}),\n",
    "                      })\n"
   ]
  },
  {
   "cell_type": "code",
   "execution_count": 5,
   "metadata": {},
   "outputs": [
    {
     "name": "stdout",
     "output_type": "stream",
     "text": [
      "WARNING:tensorflow:From D:\\Deep_Learning\\CNN_3\\functions.py:155: softmax_cross_entropy_with_logits (from tensorflow.python.ops.nn_ops) is deprecated and will be removed in a future version.\nInstructions for updating:\n\nFuture major versions of TensorFlow will allow gradients to flow\ninto the labels input on backprop by default.\n\nSee @{tf.nn.softmax_cross_entropy_with_logits_v2}.\n\n"
     ]
    },
    {
     "name": "stdout",
     "output_type": "stream",
     "text": [
      "Cost after epoch 0: 23.223150\n"
     ]
    },
    {
     "name": "stdout",
     "output_type": "stream",
     "text": [
      "Cost after epoch 5: 0.129616\n"
     ]
    },
    {
     "name": "stdout",
     "output_type": "stream",
     "text": [
      "Cost after epoch 10: 0.065145\n"
     ]
    },
    {
     "name": "stdout",
     "output_type": "stream",
     "text": [
      "Cost after epoch 15: 0.074026\n"
     ]
    },
    {
     "name": "stdout",
     "output_type": "stream",
     "text": [
      "Cost after epoch 20: 0.064176\n"
     ]
    },
    {
     "name": "stdout",
     "output_type": "stream",
     "text": [
      "Cost after epoch 25: 0.101472\n"
     ]
    },
    {
     "name": "stdout",
     "output_type": "stream",
     "text": [
      "Cost after epoch 30: 0.061399\n"
     ]
    },
    {
     "name": "stdout",
     "output_type": "stream",
     "text": [
      "Cost after epoch 35: 0.049679\n"
     ]
    },
    {
     "name": "stdout",
     "output_type": "stream",
     "text": [
      "Cost after epoch 40: 0.047775\n"
     ]
    },
    {
     "name": "stdout",
     "output_type": "stream",
     "text": [
      "Cost after epoch 45: 0.187458\n"
     ]
    },
    {
     "name": "stdout",
     "output_type": "stream",
     "text": [
      "Cost after epoch 50: 0.035024\n"
     ]
    },
    {
     "name": "stdout",
     "output_type": "stream",
     "text": [
      "Cost after epoch 55: 0.089047\n"
     ]
    },
    {
     "name": "stdout",
     "output_type": "stream",
     "text": [
      "Cost after epoch 60: 0.071990\n"
     ]
    },
    {
     "name": "stdout",
     "output_type": "stream",
     "text": [
      "Cost after epoch 65: 0.038024\n"
     ]
    },
    {
     "name": "stdout",
     "output_type": "stream",
     "text": [
      "Cost after epoch 70: 0.040845\n"
     ]
    },
    {
     "name": "stdout",
     "output_type": "stream",
     "text": [
      "Cost after epoch 75: 0.041935\n"
     ]
    },
    {
     "name": "stdout",
     "output_type": "stream",
     "text": [
      "Cost after epoch 80: 0.079710\n"
     ]
    },
    {
     "name": "stdout",
     "output_type": "stream",
     "text": [
      "Cost after epoch 85: 0.035017\n"
     ]
    },
    {
     "name": "stdout",
     "output_type": "stream",
     "text": [
      "Cost after epoch 90: 0.038862\n"
     ]
    },
    {
     "name": "stdout",
     "output_type": "stream",
     "text": [
      "Cost after epoch 95: 0.046470\n"
     ]
    },
    {
     "data": {
      "image/png": "[encoded data removed]",
      "text/plain": [
       "<Figure size 432x288 with 1 Axes>"
      ]
     },
     "metadata": {},
     "output_type": "display_data"
    },
    {
     "name": "stdout",
     "output_type": "stream",
     "text": [
      "Train Accuracy: 0.99781066\nTest Accuracy: 0.98655176\n"
     ]
    }
   ],
   "source": [
    "model_params['layers'] = len(layers_params.keys())\n",
    "model_params['layers_params'] = layers_params\n",
    "\n",
    "train_accuracy, test_accuracy, parameters = model(dataset, model_params)\n",
    "print(\"Train Accuracy:\", np.mean(train_accuracy))\n",
    "print(\"Test Accuracy:\", np.mean(test_accuracy))"
   ]
  },
  {
   "cell_type": "code",
   "execution_count": null,
   "metadata": {},
   "outputs": [],
   "source": []
  }
 ],
 "metadata": {
  "kernelspec": {
   "display_name": "Python 2",
   "language": "python",
   "name": "python2"
  },
  "language_info": {
   "codemirror_mode": {
    "name": "ipython",
    "version": 2
   },
   "file_extension": ".py",
   "mimetype": "text/x-python",
   "name": "python",
   "nbconvert_exporter": "python",
   "pygments_lexer": "ipython2",
   "version": "2.7.6"
  }
 },
 "nbformat": 4,
 "nbformat_minor": 0
}
